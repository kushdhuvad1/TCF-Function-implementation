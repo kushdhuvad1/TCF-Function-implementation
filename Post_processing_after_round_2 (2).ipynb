{
 "cells": [
  {
   "cell_type": "code",
   "execution_count": 9,
   "id": "bb1739f9-8047-46a4-8ec8-a6a6d8c53167",
   "metadata": {},
   "outputs": [
    {
     "name": "stdout",
     "output_type": "stream",
     "text": [
      "x0: 0001, x1: 1011, d: 0100, r: 0011\n",
      "(−1)^(d·x0)|r · x0⟩_b + (−1)^(d·x1)|r · x1⟩_b = |1⟩\n",
      "ancilla qubit is in state |1⟩\n"
     ]
    }
   ],
   "source": [
    "\"\"\"\n",
    "Here is the example that  that after the  measuerment of the x register in round 2 if we recieve the bitstring d as 0100\n",
    "and we had the randam bitstring r as 0011 at the 6b step of round 2 then with the the values of x1 and x2 we can determine the state of \n",
    "ancilla qubit using the following classical computation\n",
    "\"\"\"\n",
    "import numpy as np\n",
    "\n",
    "def to_binary(num, length):\n",
    "    \"\"\"Convert a number to a binary string of a given length.\"\"\"\n",
    "    return bin(num)[2:].zfill(length)\n",
    "\n",
    "def dot_product(bin_str1, bin_str2):\n",
    "    \"\"\"Compute the dot product of two binary strings.\"\"\"\n",
    "    return sum(int(b1) * int(b2) for b1, b2 in zip(bin_str1, bin_str2)) % 2\n",
    "\n",
    "# Convert numbers to binary strings of equal length\n",
    "length = max(len(bin(7)[2:]), len(bin(8)[2:]), len(bin(4)[2:]), len(bin(3)[2:]))\n",
    "\n",
    "x0 = to_binary(1, length)\n",
    "x1 = to_binary(11, length)\n",
    "d = to_binary(4, length)\n",
    "r = to_binary(3, length)\n",
    "\n",
    "# Compute the dot products\n",
    "dx0 = dot_product(d, x0)\n",
    "dx1 = dot_product(d, x1)\n",
    "rx0 = dot_product(r, x0)\n",
    "rx1 = dot_product(r, x1)\n",
    "\n",
    "# Calculate the quantum state expression\n",
    "state = ((-1) ** dx0) * rx0 + ((-1) ** dx1) * rx1\n",
    "\n",
    "# Determine the final state\n",
    "if state == 0:\n",
    "    result = \"|0⟩\"\n",
    "elif state == 1:\n",
    "    result = \"|1⟩\"\n",
    "elif state == 2:\n",
    "    result = \"|+⟩\"\n",
    "else:\n",
    "    result = \"|−⟩\"\n",
    "\n",
    "# Output the result\n",
    "print(f\"x0: {x0}, x1: {x1}, d: {d}, r: {r}\")\n",
    "print(f\"(−1)^(d·x0)|r · x0⟩_b + (−1)^(d·x1)|r · x1⟩_b = {result}\")\n",
    "print(\"ancilla qubit is in state\",result)"
   ]
  },
  {
   "cell_type": "code",
   "execution_count": null,
   "id": "0073d188-5974-48d8-ba9f-977dc0a2a257",
   "metadata": {},
   "outputs": [],
   "source": []
  }
 ],
 "metadata": {
  "kernelspec": {
   "display_name": "Python 3 (ipykernel)",
   "language": "python",
   "name": "python3"
  },
  "language_info": {
   "codemirror_mode": {
    "name": "ipython",
    "version": 3
   },
   "file_extension": ".py",
   "mimetype": "text/x-python",
   "name": "python",
   "nbconvert_exporter": "python",
   "pygments_lexer": "ipython3",
   "version": "3.11.7"
  }
 },
 "nbformat": 4,
 "nbformat_minor": 5
}
